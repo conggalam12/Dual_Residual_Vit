{
  "cells": [
    {
      "cell_type": "code",
      "execution_count": 3,
      "metadata": {
        "execution": {
          "iopub.execute_input": "2023-06-20T01:19:45.673799Z",
          "iopub.status.busy": "2023-06-20T01:19:45.673445Z",
          "iopub.status.idle": "2023-06-20T01:19:48.845510Z",
          "shell.execute_reply": "2023-06-20T01:19:48.844277Z",
          "shell.execute_reply.started": "2023-06-20T01:19:45.673769Z"
        },
        "id": "A6IKuvRKLAyd",
        "trusted": true
      },
      "outputs": [],
      "source": [
        "import torch\n",
        "import torch.nn as nn\n",
        "import torch.optim as optim\n",
        "import torchvision\n",
        "from tqdm import tqdm"
      ]
    },
    {
      "cell_type": "code",
      "execution_count": 4,
      "metadata": {},
      "outputs": [
        {
          "data": {
            "text/plain": [
              "True"
            ]
          },
          "execution_count": 4,
          "metadata": {},
          "output_type": "execute_result"
        }
      ],
      "source": [
        "torch.cuda.is_available()"
      ]
    },
    {
      "attachments": {},
      "cell_type": "markdown",
      "metadata": {
        "id": "5A8CP2zhL0LC"
      },
      "source": [
        "<img src = \"https://editor.analyticsvidhya.com/uploads/35004Vit.png\">"
      ]
    },
    {
      "cell_type": "code",
      "execution_count": 5,
      "metadata": {
        "execution": {
          "iopub.execute_input": "2023-06-20T01:19:48.847852Z",
          "iopub.status.busy": "2023-06-20T01:19:48.847338Z",
          "iopub.status.idle": "2023-06-20T01:19:48.857476Z",
          "shell.execute_reply": "2023-06-20T01:19:48.856609Z",
          "shell.execute_reply.started": "2023-06-20T01:19:48.847823Z"
        },
        "id": "aUVefxwby5fv",
        "trusted": true
      },
      "outputs": [],
      "source": [
        "class PatchEmbedding(nn.Module):\n",
        "    def __init__(self, image_size, patch_size, input_channels = 3, embedding_dims = 768):\n",
        "        super(PatchEmbedding, self).__init__()\n",
        "        '''\n",
        "            image_size: the size of tha image assuming that the image is square aka height = width\n",
        "            patch_size: Size of the batch assuming that it is square\n",
        "            input_channel: 1 for grey_scale, 3 for RGB Channels\n",
        "            embedding_dims: the dimension of the embedding layer\n",
        "        '''\n",
        "        self.image_size = image_size\n",
        "        self.patch_size = patch_size\n",
        "        self.input_channels = input_channels\n",
        "        self.embedding_dims = embedding_dims\n",
        "        self.num_patches = (self.image_size // self.patch_size) ** 2\n",
        "        self.projection = nn.Conv2d(self.input_channels, self.embedding_dims, kernel_size=self.patch_size, stride=self.patch_size)\n",
        "\n",
        "    def forward(self, x):\n",
        "        # x shape: (n_samples, input_channels, image_size, image_size) -> both image_size for height and width\n",
        "        projection = self.projection(x) # shape (n_samples, embedding_dim, sqrt(n_patches), sqrt(n_patches))\n",
        "        projection = projection.flatten(2) # shape (n_samples, embedding_dim, n_patches)\n",
        "        projection = projection.transpose(1, 2) # shape (n_samples, n_patches, embedding_dim)\n",
        "        return projection\n",
        "\n"
      ]
    },
    {
      "cell_type": "code",
      "execution_count": 6,
      "metadata": {
        "execution": {
          "iopub.execute_input": "2023-06-20T01:19:48.859480Z",
          "iopub.status.busy": "2023-06-20T01:19:48.858916Z",
          "iopub.status.idle": "2023-06-20T01:19:48.873642Z",
          "shell.execute_reply": "2023-06-20T01:19:48.872449Z",
          "shell.execute_reply.started": "2023-06-20T01:19:48.859448Z"
        },
        "id": "JeyuheBM1hX8",
        "trusted": true
      },
      "outputs": [],
      "source": [
        "class AttentionModel(nn.Module):\n",
        "    def __init__(self, dim, num_heads, include_bias, attention_dropout = 0.5, projection_dropout = 0.5):\n",
        "        super(AttentionModel, self).__init__()\n",
        "        '''\n",
        "            dim: Input/Output dimensions\n",
        "            num_heads: number of heads of the attention\n",
        "            include_bias: bool variable to include bias or not for query, key, and value of the attention\n",
        "            attention_dropout: probability of dropout for the attention\n",
        "            projection_dropout: robability of dropout for the projection (Patch Embedding Layer)\n",
        "        '''\n",
        "        self.dim = dim\n",
        "        self.num_heads = num_heads\n",
        "        self.include_bias = include_bias\n",
        "        self.attention_dropout = attention_dropout\n",
        "        self.projection_dropout = projection_dropout\n",
        "\n",
        "        self.head_dim = dim // num_heads\n",
        "        self.scale = self.head_dim ** -0.5\n",
        "\n",
        "        self.linear_layer = nn.Linear(dim, dim * 3, bias = include_bias) # Linear Mapping take in token embedding and generate query, key and a value (reason for dim * 3)\n",
        "        self.projection = nn.Linear(dim, dim)\n",
        "\n",
        "        self.attention_drop = nn.Dropout(self.attention_dropout)\n",
        "        self.projection_drop = nn.Dropout(self.projection_dropout)\n",
        "\n",
        "    def forward(self, x):\n",
        "        # x shape: (n_samples, n_patches + 1, dim) [num_patches +1 for the 0 class token (from the paper)]\n",
        "\n",
        "        # Extract the dimensions:\n",
        "        n_samples, n_tokens, dim = x.shape\n",
        "        linear = self.linear_layer(x) # shape: (n_samples, n_patches + 1, dim * 3)\n",
        "        linear = linear.reshape(n_samples, n_tokens, 3, self.num_heads, self.head_dim) # shape: (n_samples, n_tokens, 3, num_heads, head_dim)\n",
        "        linear = linear.permute(2, 0, 3, 1, 4) # shape: (3, n_samples, num_heads,  n_patches + 1, head_dim) # To Extract query, key, value\n",
        "        query = linear[0]\n",
        "        key = linear[1]\n",
        "        value = linear[2]\n",
        "\n",
        "        key_transpose = key.transpose(-2, -1) # Shape (num_samples, num_heads, head_dim, n_patches + 1)\n",
        "        query_key = (query @ key_transpose) * self.scale # From Attention all you Need [Transformers]\n",
        "        attention = query_key.softmax(dim = -1) # (n_samples, n_heads, n_patches + 1, ) To Generate a discrete probability distribution that sums up to one for [weighted average]\n",
        "        attention = self.attention_drop(attention)\n",
        "        weighted_average = attention @ value\n",
        "        weighted_average_transpose = weighted_average.transpose(1, 2)\n",
        "        weighted_average_flat = weighted_average_transpose.flatten(2) # To Flat the last 2 dimensions [For concatination] shape:(n_samples, n_patches + 1, head_dim)\n",
        "        output = self.projection(weighted_average_flat) # shape: (n_samples, n_patches+1, dim)\n",
        "        output = self.projection_drop(output)\n",
        "\n",
        "        return output\n"
      ]
    },
    {
      "cell_type": "code",
      "execution_count": 7,
      "metadata": {
        "execution": {
          "iopub.execute_input": "2023-06-20T01:19:48.878228Z",
          "iopub.status.busy": "2023-06-20T01:19:48.877578Z",
          "iopub.status.idle": "2023-06-20T01:19:48.888739Z",
          "shell.execute_reply": "2023-06-20T01:19:48.887712Z",
          "shell.execute_reply.started": "2023-06-20T01:19:48.878196Z"
        },
        "id": "MA9RxevU7pU-",
        "trusted": true
      },
      "outputs": [],
      "source": [
        "class MLP(nn.Module):\n",
        "    def __init__(self, in_features, hidden_features, out_features, dropout_p = 0.5):\n",
        "        super(MLP, self).__init__()\n",
        "\n",
        "        self.in_features = in_features\n",
        "        self.hidden_features = hidden_features\n",
        "        self.out_features = out_features\n",
        "\n",
        "        # Neural Network\n",
        "        self.layer1 = nn.Linear(in_features, self.hidden_features)\n",
        "        self.gelu = nn.GELU()\n",
        "        self.linear2 = nn.Linear(self.hidden_features, out_features)\n",
        "        self.drop = nn.Dropout(dropout_p)\n",
        "\n",
        "    def forward(self, x):\n",
        "        # x shape: (n_samples, n_patches + 1, in_features)\n",
        "        linear1 = self.layer1(x)\n",
        "        gelu = self.gelu(linear1)\n",
        "        gelu = self.drop(gelu)\n",
        "        linear2 = self.linear2(gelu)\n",
        "        output = self.drop(linear2)\n",
        "        return output"
      ]
    },
    {
      "cell_type": "code",
      "execution_count": 8,
      "metadata": {},
      "outputs": [],
      "source": [
        "class Dual_Residual_Block(nn.Module):\n",
        "    def __init__(self,dim,norm):\n",
        "        super(Dual_Residual_Block,self).__init__()\n",
        "        self.norm = norm\n",
        "        self.dim = dim\n",
        "    def forward(self,x,x_d,f):\n",
        "        x_f = f(x)\n",
        "        x = x+x_f\n",
        "        x_d = x_d+x_f\n",
        "        x_a = self.norm(x)\n",
        "        x_d = self.norm(x_d)\n",
        "        y = x_a+x_d\n",
        "        return y,x_d\n",
        "        "
      ]
    },
    {
      "attachments": {},
      "cell_type": "markdown",
      "metadata": {
        "id": "s9KYIzhX-C6x"
      },
      "source": [
        "**Layer Normalization**\n",
        "<br>\n",
        "For each layer $ {h_i} $\n",
        "<br>\n",
        "$h_i := \\frac{g}{\\sigma} (h_i - \\mu)$   $\\ \\ [\\mu = 0, \\sigma = 1]$"
      ]
    },
    {
      "cell_type": "code",
      "execution_count": 9,
      "metadata": {
        "execution": {
          "iopub.execute_input": "2023-06-20T01:19:48.890453Z",
          "iopub.status.busy": "2023-06-20T01:19:48.890037Z",
          "iopub.status.idle": "2023-06-20T01:19:48.901192Z",
          "shell.execute_reply": "2023-06-20T01:19:48.900267Z",
          "shell.execute_reply.started": "2023-06-20T01:19:48.890422Z"
        },
        "id": "1OG5PXEq9Lay",
        "trusted": true
      },
      "outputs": [],
      "source": [
        "class BuildingBlock(nn.Module):\n",
        "    def __init__(self, dim, num_heads, mlp_ratio = 4.0, include_bias = True, dropout_p = 0.5, attention_p = 0.5):\n",
        "        super(BuildingBlock, self).__init__()\n",
        "        self.norm= nn.LayerNorm(dim, eps=1e-6)\n",
        "        self.attention = AttentionModel(dim, num_heads, include_bias, attention_p, dropout_p)\n",
        "        self.hidden_features = int(dim * mlp_ratio)\n",
        "        self.FFN = nn.Sequential(\n",
        "            nn.Linear(dim, dim*3),\n",
        "            nn.ReLU(inplace=True),\n",
        "            nn.Dropout(dropout_p),\n",
        "            nn.Linear(dim*3,dim),\n",
        "            nn.Dropout(dropout_p)\n",
        "        )\n",
        "        self.mlp = MLP(dim, self.hidden_features, dim)\n",
        "        self.dim = dim\n",
        "        self.Residual = Dual_Residual_Block(dim,self.norm)\n",
        "    def forward(self, x):\n",
        "        #Block 1\n",
        "        x_ln1,x_d = self.Residual(x,x,self.attention)\n",
        "        x_ln2,x_d = self.Residual(x_ln1,x_d,self.FFN)\n",
        "\n",
        "        #Block 2\n",
        "        x_ln3,x_d = self.Residual(x_ln2,x_d,self.attention)\n",
        "        x_ln4,x_d = self.Residual(x_ln3,x_d,self.FFN)\n",
        "\n",
        "        #Block 3\n",
        "        x_ln5,x_d = self.Residual(x_ln4,x_d,self.attention)\n",
        "        x_ln6,x_d = self.Residual(x_ln5,x_d,self.FFN)\n",
        "\n",
        "        #Block 4:\n",
        "        x_ln7,x_d = self.Residual(x_ln6,x_d,self.attention)\n",
        "        x_ln8,x_d = self.Residual(x_ln7,x_d,self.FFN)\n",
        "        \n",
        "        y = self.mlp(x_ln8)\n",
        "        return y\n",
        "        "
      ]
    },
    {
      "cell_type": "code",
      "execution_count": 10,
      "metadata": {
        "execution": {
          "iopub.execute_input": "2023-06-20T01:19:48.904679Z",
          "iopub.status.busy": "2023-06-20T01:19:48.904420Z",
          "iopub.status.idle": "2023-06-20T01:19:48.917346Z",
          "shell.execute_reply": "2023-06-20T01:19:48.916498Z",
          "shell.execute_reply.started": "2023-06-20T01:19:48.904657Z"
        },
        "id": "7daCj59S_8zE",
        "trusted": true
      },
      "outputs": [],
      "source": [
        "class VisionTransformer(nn.Module):\n",
        "    def __init__(self, image_size=384, patch_size=16, input_channels=3, num_classes=100, embedding_dims=768, depth=12, num_heads=12, mlp_ratio=4.0, include_bias = True, dropout_p = 0.5, attention_p = 0.5):\n",
        "        super(VisionTransformer, self).__init__()\n",
        "        self.patch_embedding = PatchEmbedding(image_size, patch_size, input_channels, embedding_dims) # instance of patch embedding model\n",
        "        self.cls = nn.Parameter(torch.zeros(1, 1, embedding_dims))\n",
        "        self.positional_embeddings = nn.Parameter(torch.zeros(1, 1 + self.patch_embedding.num_patches, embedding_dims)) # to get the exact position of a given patch in the image\n",
        "        self.pos_drop = nn.Dropout(dropout_p)\n",
        "\n",
        "        self.blocks = nn.ModuleList([ BuildingBlock(embedding_dims, num_heads, mlp_ratio, include_bias, dropout_p, attention_p) for transformer in range(depth) ])\n",
        "\n",
        "        self.norm = nn.LayerNorm(embedding_dims, eps=1e-6)\n",
        "        self.head = nn.Linear(embedding_dims, num_classes)\n",
        "\n",
        "    def forward(self, x):\n",
        "        # x shape: (n_samples, in_channels, img_size, img_size)\n",
        "        n_samples = x.shape[0]\n",
        "        x = self.patch_embedding(x)\n",
        "        cls = self.cls.expand(n_samples, -1, -1) # shape: (n_samples, 1, embedding_dims)\n",
        "        x = torch.cat((cls, x), dim = 1) # Concatination -> shape(n_samples, 1 + n_patches, embedding_dims)\n",
        "        x = x + self.positional_embeddings\n",
        "        x = self.pos_drop(x)\n",
        "        print(x.shape)\n",
        "        for block in self.blocks:\n",
        "            x = block(x)\n",
        "        cls_final = x[:, 0]\n",
        "\n",
        "        x = self.head(cls_final)\n",
        "\n",
        "        return x"
      ]
    },
    {
      "cell_type": "code",
      "execution_count": 11,
      "metadata": {},
      "outputs": [],
      "source": [
        "import torch.nn.functional as F\n",
        "class FocalLoss(nn.Module):\n",
        "    def __init__(self, alpha=1, gamma=2, reduction='mean'):\n",
        "        super(FocalLoss, self).__init__()\n",
        "        self.alpha = alpha\n",
        "        self.gamma = gamma\n",
        "        self.reduction = reduction\n",
        "\n",
        "    def forward(self, inputs, targets):\n",
        "        ce_loss = F.cross_entropy(inputs, targets, reduction='none')\n",
        "        pt = torch.exp(-ce_loss)\n",
        "        focal_loss = self.alpha * (1 - pt) ** self.gamma * ce_loss\n",
        "\n",
        "        if self.reduction == 'mean':\n",
        "            return focal_loss.mean()\n",
        "        elif self.reduction == 'sum':\n",
        "            return focal_loss.sum()\n",
        "        else:\n",
        "            return focal_loss\n"
      ]
    },
    {
      "cell_type": "code",
      "execution_count": 17,
      "metadata": {
        "execution": {
          "iopub.execute_input": "2023-06-20T01:19:48.918966Z",
          "iopub.status.busy": "2023-06-20T01:19:48.918449Z",
          "iopub.status.idle": "2023-06-20T01:19:48.931932Z",
          "shell.execute_reply": "2023-06-20T01:19:48.931038Z",
          "shell.execute_reply.started": "2023-06-20T01:19:48.918935Z"
        },
        "id": "MwYmLOCvDZCx",
        "trusted": true
      },
      "outputs": [],
      "source": [
        "def train(vision_transformer_model, epochs, learning_rate, dataset):\n",
        "    optimizer = optim.Adagrad(vision_transformer_model.parameters(), lr=learning_rate)\n",
        "    critation = FocalLoss()\n",
        "    losses = []\n",
        "    t = len(dataset)\n",
        "#     print(dataset.dataset.targets)\n",
        "    embedding_dim = 100\n",
        "    for epoch in tqdm(range(epochs)):\n",
        "        loss_sum = 0\n",
        "        i =  0\n",
        "        for x, y in zip(dataset.dataset.data, dataset.dataset.targets):\n",
        "            i+=1\n",
        "            x = torch.tensor(x).cuda()\n",
        "            x = x.view(1, x.shape[0], x.shape[1], x.shape[2])\n",
        "            x = x.permute(0, 3, 1, 2)\n",
        "            optimizer.zero_grad()\n",
        "            y_hat= vision_transformer_model(x.float())\n",
        "            #y = torch.tensor([y])\n",
        "            y_label = torch.zeros(embedding_dim).cuda()\n",
        "            y_label[y] = 1\n",
        "            y_label = y_label.unsqueeze(0)\n",
        "            loss = critation(y_hat, y_label)\n",
        "            if i % 10 == 0:\n",
        "                print(\"Loss \",i,\"/\",t,\":\",float(loss))\n",
        "            losses.append(loss)\n",
        "            loss_sum += loss\n",
        "            loss.backward()\n",
        "            optimizer.step()\n",
        "        print(\"Total loss epoch \",epoch,\":\",loss_sum/t)\n",
        "    return losses"
      ]
    },
    {
      "cell_type": "code",
      "execution_count": 18,
      "metadata": {
        "execution": {
          "iopub.execute_input": "2023-06-20T01:19:48.933636Z",
          "iopub.status.busy": "2023-06-20T01:19:48.933139Z",
          "iopub.status.idle": "2023-06-20T01:19:49.680407Z",
          "shell.execute_reply": "2023-06-20T01:19:49.679280Z",
          "shell.execute_reply.started": "2023-06-20T01:19:48.933605Z"
        },
        "id": "qhZVis31E-cS",
        "trusted": true
      },
      "outputs": [],
      "source": [
        "vision_transformer = VisionTransformer(image_size = 32, num_classes = 100)"
      ]
    },
    {
      "cell_type": "code",
      "execution_count": 19,
      "metadata": {
        "colab": {
          "base_uri": "https://localhost:8080/"
        },
        "execution": {
          "iopub.execute_input": "2023-06-20T01:45:00.733450Z",
          "iopub.status.busy": "2023-06-20T01:45:00.732811Z",
          "iopub.status.idle": "2023-06-20T01:45:02.450138Z",
          "shell.execute_reply": "2023-06-20T01:45:02.448933Z",
          "shell.execute_reply.started": "2023-06-20T01:45:00.733388Z"
        },
        "id": "bphjEpaoFCuf",
        "outputId": "291fa770-4668-43b7-ab1d-758789863422",
        "trusted": true
      },
      "outputs": [
        {
          "name": "stdout",
          "output_type": "stream",
          "text": [
            "mkdir: cannot create directory ‘cifar’: File exists\n"
          ]
        },
        {
          "name": "stdout",
          "output_type": "stream",
          "text": [
            "Files already downloaded and verified\n",
            "50000\n"
          ]
        }
      ],
      "source": [
        "!mkdir cifar\n",
        "cifar_data = torchvision.datasets.CIFAR100('data/cifar', download = True)\n",
        "data_loader = torch.utils.data.DataLoader(cifar_data,\n",
        "                                          batch_size=4,\n",
        "                                          shuffle=True)\n",
        "print(len(data_loader.dataset.data))\n"
      ]
    },
    {
      "cell_type": "code",
      "execution_count": 15,
      "metadata": {
        "execution": {
          "iopub.execute_input": "2023-06-20T01:29:10.716785Z",
          "iopub.status.busy": "2023-06-20T01:29:10.716389Z",
          "iopub.status.idle": "2023-06-20T01:29:10.721963Z",
          "shell.execute_reply": "2023-06-20T01:29:10.721046Z",
          "shell.execute_reply.started": "2023-06-20T01:29:10.716751Z"
        },
        "id": "5f04FLX1GH31",
        "trusted": true
      },
      "outputs": [],
      "source": [
        "EPOCHS = 10\n",
        "LEARNING_RATE = 0.001"
      ]
    },
    {
      "cell_type": "code",
      "execution_count": 20,
      "metadata": {},
      "outputs": [
        {
          "name": "stderr",
          "output_type": "stream",
          "text": [
            "  0%|          | 0/10 [00:00<?, ?it/s]"
          ]
        },
        {
          "name": "stdout",
          "output_type": "stream",
          "text": [
            "torch.Size([1, 5, 768])\n",
            "torch.Size([1, 5, 768])\n",
            "torch.Size([1, 5, 768])\n",
            "torch.Size([1, 5, 768])\n",
            "torch.Size([1, 5, 768])\n",
            "torch.Size([1, 5, 768])\n",
            "torch.Size([1, 5, 768])\n",
            "torch.Size([1, 5, 768])\n",
            "torch.Size([1, 5, 768])\n",
            "torch.Size([1, 5, 768])\n",
            "Loss  10 / 12500 : 5.534091949462891\n",
            "torch.Size([1, 5, 768])\n",
            "torch.Size([1, 5, 768])\n",
            "torch.Size([1, 5, 768])\n",
            "torch.Size([1, 5, 768])\n",
            "torch.Size([1, 5, 768])\n",
            "torch.Size([1, 5, 768])\n"
          ]
        },
        {
          "name": "stderr",
          "output_type": "stream",
          "text": [
            "  0%|          | 0/10 [00:14<?, ?it/s]\n"
          ]
        },
        {
          "ename": "KeyboardInterrupt",
          "evalue": "",
          "output_type": "error",
          "traceback": [
            "\u001b[0;31m---------------------------------------------------------------------------\u001b[0m",
            "\u001b[0;31mKeyboardInterrupt\u001b[0m                         Traceback (most recent call last)",
            "Cell \u001b[0;32mIn[20], line 1\u001b[0m\n\u001b[0;32m----> 1\u001b[0m losses \u001b[39m=\u001b[39m train(vision_transformer\u001b[39m.\u001b[39;49mcuda(), EPOCHS, LEARNING_RATE, data_loader)\n",
            "Cell \u001b[0;32mIn[17], line 27\u001b[0m, in \u001b[0;36mtrain\u001b[0;34m(vision_transformer_model, epochs, learning_rate, dataset)\u001b[0m\n\u001b[1;32m     25\u001b[0m     losses\u001b[39m.\u001b[39mappend(loss)\n\u001b[1;32m     26\u001b[0m     loss_sum \u001b[39m+\u001b[39m\u001b[39m=\u001b[39m loss\n\u001b[0;32m---> 27\u001b[0m     loss\u001b[39m.\u001b[39;49mbackward()\n\u001b[1;32m     28\u001b[0m     optimizer\u001b[39m.\u001b[39mstep()\n\u001b[1;32m     29\u001b[0m \u001b[39mprint\u001b[39m(\u001b[39m\"\u001b[39m\u001b[39mTotal loss epoch \u001b[39m\u001b[39m\"\u001b[39m,epoch,\u001b[39m\"\u001b[39m\u001b[39m:\u001b[39m\u001b[39m\"\u001b[39m,loss_sum\u001b[39m/\u001b[39mt)\n",
            "File \u001b[0;32m~/.local/lib/python3.8/site-packages/torch/_tensor.py:487\u001b[0m, in \u001b[0;36mTensor.backward\u001b[0;34m(self, gradient, retain_graph, create_graph, inputs)\u001b[0m\n\u001b[1;32m    477\u001b[0m \u001b[39mif\u001b[39;00m has_torch_function_unary(\u001b[39mself\u001b[39m):\n\u001b[1;32m    478\u001b[0m     \u001b[39mreturn\u001b[39;00m handle_torch_function(\n\u001b[1;32m    479\u001b[0m         Tensor\u001b[39m.\u001b[39mbackward,\n\u001b[1;32m    480\u001b[0m         (\u001b[39mself\u001b[39m,),\n\u001b[0;32m   (...)\u001b[0m\n\u001b[1;32m    485\u001b[0m         inputs\u001b[39m=\u001b[39minputs,\n\u001b[1;32m    486\u001b[0m     )\n\u001b[0;32m--> 487\u001b[0m torch\u001b[39m.\u001b[39;49mautograd\u001b[39m.\u001b[39;49mbackward(\n\u001b[1;32m    488\u001b[0m     \u001b[39mself\u001b[39;49m, gradient, retain_graph, create_graph, inputs\u001b[39m=\u001b[39;49minputs\n\u001b[1;32m    489\u001b[0m )\n",
            "File \u001b[0;32m~/.local/lib/python3.8/site-packages/torch/autograd/__init__.py:200\u001b[0m, in \u001b[0;36mbackward\u001b[0;34m(tensors, grad_tensors, retain_graph, create_graph, grad_variables, inputs)\u001b[0m\n\u001b[1;32m    195\u001b[0m     retain_graph \u001b[39m=\u001b[39m create_graph\n\u001b[1;32m    197\u001b[0m \u001b[39m# The reason we repeat same the comment below is that\u001b[39;00m\n\u001b[1;32m    198\u001b[0m \u001b[39m# some Python versions print out the first line of a multi-line function\u001b[39;00m\n\u001b[1;32m    199\u001b[0m \u001b[39m# calls in the traceback and some print out the last line\u001b[39;00m\n\u001b[0;32m--> 200\u001b[0m Variable\u001b[39m.\u001b[39;49m_execution_engine\u001b[39m.\u001b[39;49mrun_backward(  \u001b[39m# Calls into the C++ engine to run the backward pass\u001b[39;49;00m\n\u001b[1;32m    201\u001b[0m     tensors, grad_tensors_, retain_graph, create_graph, inputs,\n\u001b[1;32m    202\u001b[0m     allow_unreachable\u001b[39m=\u001b[39;49m\u001b[39mTrue\u001b[39;49;00m, accumulate_grad\u001b[39m=\u001b[39;49m\u001b[39mTrue\u001b[39;49;00m)\n",
            "\u001b[0;31mKeyboardInterrupt\u001b[0m: "
          ]
        }
      ],
      "source": [
        "losses = train(vision_transformer.cuda(), EPOCHS, LEARNING_RATE, data_loader)"
      ]
    },
    {
      "cell_type": "code",
      "execution_count": null,
      "metadata": {},
      "outputs": [],
      "source": []
    }
  ],
  "metadata": {
    "accelerator": "GPU",
    "colab": {
      "provenance": []
    },
    "kernelspec": {
      "display_name": "Python 3",
      "language": "python",
      "name": "python3"
    },
    "language_info": {
      "codemirror_mode": {
        "name": "ipython",
        "version": 3
      },
      "file_extension": ".py",
      "mimetype": "text/x-python",
      "name": "python",
      "nbconvert_exporter": "python",
      "pygments_lexer": "ipython3",
      "version": "3.8.10"
    }
  },
  "nbformat": 4,
  "nbformat_minor": 0
}
